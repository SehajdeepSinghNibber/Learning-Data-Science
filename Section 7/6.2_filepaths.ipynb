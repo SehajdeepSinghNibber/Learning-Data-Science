{
 "cells": [
  {
   "cell_type": "code",
   "execution_count": null,
   "id": "a5313538",
   "metadata": {},
   "outputs": [
    {
     "name": "stdout",
     "output_type": "stream",
     "text": [
      "Directory 'new package' created\n"
     ]
    }
   ],
   "source": [
    "#Create a new Directory\n",
    "import os\n",
    "new_directory=\"new package\"\n",
    "os.mkdir(new_directory)\n",
    "print(f\"Directory '{new_directory}' created\")"
   ]
  },
  {
   "cell_type": "code",
   "execution_count": 5,
   "id": "4e7c6f82",
   "metadata": {},
   "outputs": [
    {
     "name": "stdout",
     "output_type": "stream",
     "text": [
      "Hello! This is a new file inside the directory.\n",
      "File 'new package\\new_example.txt' created successfully!\n"
     ]
    }
   ],
   "source": [
    "file_path = os.path.join(new_directory, \"new_example.txt\")\n",
    "\n",
    "with open(file_path, \"w\") as file:\n",
    "    file.write(\"Hello! This is a new file inside the directory.\")\n",
    "\n",
    "with open(file_path, \"r\") as file:\n",
    "    file_content=file.read()\n",
    "    print(file_content) \n",
    "\n",
    "print(f\"File '{file_path}' created successfully!\")"
   ]
  },
  {
   "cell_type": "code",
   "execution_count": 3,
   "id": "243ba1f1",
   "metadata": {},
   "outputs": [
    {
     "name": "stdout",
     "output_type": "stream",
     "text": [
      "['6.1_fileoperations.ipynb', '6.2_filepaths.ipynb', 'destination.txt', 'example.bin', 'example.txt', 'example1.txt', 'new package', 'package', 'source.txt']\n"
     ]
    }
   ],
   "source": [
    "##Listing all the files and directories\n",
    "items=os.listdir('.')\n",
    "print(items)"
   ]
  },
  {
   "cell_type": "code",
   "execution_count": 7,
   "id": "5f34fe3e",
   "metadata": {},
   "outputs": [
    {
     "name": "stdout",
     "output_type": "stream",
     "text": [
      "c:\\Users\\sehaj\\Desktop\\Krish Naik Python\\Section 7\\folder\\file.txt\n"
     ]
    }
   ],
   "source": [
    "### Joining Paths\n",
    "\n",
    "dir_name=\"folder\"\n",
    "file_name=\"file.txt\"\n",
    "full_path=os.path.join(os.getcwd(),dir_name,file_name)\n",
    "print(full_path)"
   ]
  },
  {
   "cell_type": "code",
   "execution_count": 8,
   "id": "ef11c5d4",
   "metadata": {},
   "outputs": [
    {
     "name": "stdout",
     "output_type": "stream",
     "text": [
      "the path 'example1.txt' exists.\n"
     ]
    }
   ],
   "source": [
    "path='example1.txt'\n",
    "if os.path.exists(path):\n",
    "    print(f\"the path '{path}' exists.\")\n",
    "else:\n",
    "    print(f\"the path '{path}' does not exist.\")"
   ]
  },
  {
   "cell_type": "code",
   "execution_count": 9,
   "id": "7b458c9e",
   "metadata": {},
   "outputs": [
    {
     "name": "stdout",
     "output_type": "stream",
     "text": [
      "path 'example1.txt' is a file\n"
     ]
    }
   ],
   "source": [
    "#Checking if a path is a file or directory\n",
    "path='example1.txt'\n",
    "if os.path.isfile(path):\n",
    "    print(f\"path '{path}' is a file\")\n",
    "elif os.path.isdir(path):\n",
    "    print(f\"path '{path}' is a Directory\")\n",
    "else:\n",
    "    print(f\"the path '{path}' is neither a file nor a directory\")"
   ]
  },
  {
   "cell_type": "code",
   "execution_count": 11,
   "id": "f977f1e8",
   "metadata": {},
   "outputs": [
    {
     "name": "stdout",
     "output_type": "stream",
     "text": [
      "c:\\Users\\sehaj\\Desktop\\Krish Naik Python\\Section 7\\example.txt\n"
     ]
    }
   ],
   "source": [
    "##Getting the absolute path\n",
    "relative_path=\"example.txt\"\n",
    "absolute_path=os.path.abspath(relative_path)\n",
    "print(absolute_path)"
   ]
  }
 ],
 "metadata": {
  "kernelspec": {
   "display_name": "UserssehajDesktopKrish",
   "language": "python",
   "name": "python3"
  },
  "language_info": {
   "codemirror_mode": {
    "name": "ipython",
    "version": 3
   },
   "file_extension": ".py",
   "mimetype": "text/x-python",
   "name": "python",
   "nbconvert_exporter": "python",
   "pygments_lexer": "ipython3",
   "version": "3.13.5"
  }
 },
 "nbformat": 4,
 "nbformat_minor": 5
}
