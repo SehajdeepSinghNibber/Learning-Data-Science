{
 "cells": [
  {
   "cell_type": "code",
   "execution_count": 3,
   "id": "6ced37b6",
   "metadata": {},
   "outputs": [
    {
     "name": "stdout",
     "output_type": "stream",
     "text": [
      "Hello how are you?\n",
      "I am fine\n",
      "Welcome to the world of Python\n",
      "my name is Sehaj\n"
     ]
    }
   ],
   "source": [
    "with open('example.txt','r') as file:\n",
    "    content=file.read()\n",
    "    print(content)\n"
   ]
  },
  {
   "cell_type": "code",
   "execution_count": 5,
   "id": "f3b64091",
   "metadata": {},
   "outputs": [
    {
     "name": "stdout",
     "output_type": "stream",
     "text": [
      "Hello how are you?\n",
      "\n",
      "I am fine\n",
      "\n",
      "Welcome to the world of Python\n",
      "\n",
      "my name is Sehaj\n"
     ]
    }
   ],
   "source": [
    "##Read a file line by line\n",
    "with open('example.txt','r') as file:\n",
    "    for line in file:\n",
    "        print(line)"
   ]
  },
  {
   "cell_type": "code",
   "execution_count": null,
   "id": "95c2b8e7",
   "metadata": {},
   "outputs": [
    {
     "name": "stdout",
     "output_type": "stream",
     "text": [
      "Hello how are you?\n",
      "I am fine\n",
      "Welcome to the world of Python\n",
      "my name is Sehaj\n"
     ]
    }
   ],
   "source": [
    "##Read a file line by line\n",
    "with open('example.txt','r') as file:\n",
    "    for line in file:\n",
    "        print(line.strip()) #.strip() removes the extra spaces"
   ]
  },
  {
   "cell_type": "code",
   "execution_count": 4,
   "id": "c4b0aa98",
   "metadata": {},
   "outputs": [
    {
     "name": "stdout",
     "output_type": "stream",
     "text": [
      "['Hello how are you?\\n', 'I am fine\\n', 'Welcome to the world of Python\\n', 'my name is Sehaj']\n"
     ]
    }
   ],
   "source": [
    "with open('example.txt','r') as file:\n",
    "    lines=file.readlines()\n",
    "    print(lines)"
   ]
  },
  {
   "cell_type": "code",
   "execution_count": 24,
   "id": "cc16e0ef",
   "metadata": {},
   "outputs": [],
   "source": [
    "##Writing to a file(Ovewriting)\n",
    "with open('example.txt','w') as file:\n",
    "    file.write('Hello World\\n')\n",
    "\n",
    "##Writing to a file(Appending)\n",
    "with open('example.txt','a') as file:\n",
    "    file.write('This is a new line')\n"
   ]
  },
  {
   "cell_type": "code",
   "execution_count": 25,
   "id": "83717e1e",
   "metadata": {},
   "outputs": [
    {
     "name": "stdout",
     "output_type": "stream",
     "text": [
      "Hello World\n",
      "This is a new line\n"
     ]
    }
   ],
   "source": [
    "with open('example.txt','r') as file:\n",
    "    content=file.read()\n",
    "    print(content)"
   ]
  },
  {
   "cell_type": "code",
   "execution_count": 26,
   "id": "bd1fd027",
   "metadata": {},
   "outputs": [
    {
     "name": "stdout",
     "output_type": "stream",
     "text": [
      "Hello World\n",
      "This is a new line\n",
      "Hello World\n"
     ]
    }
   ],
   "source": [
    "##Appends a list to a file\n",
    "with open('example.txt','a') as file:\n",
    "    file.write('\\nHello World')\n",
    "with open('example.txt','r') as file:\n",
    "    content=file.read()\n",
    "    print(content)\n"
   ]
  },
  {
   "cell_type": "code",
   "execution_count": 2,
   "id": "39e5517e",
   "metadata": {},
   "outputs": [
    {
     "name": "stdout",
     "output_type": "stream",
     "text": [
      "First line\n",
      "Second line\n",
      "Third line\n",
      "\n"
     ]
    }
   ],
   "source": [
    "#writing list of lines to a file\n",
    "lines=['First line\\n','Second line\\n','Third line\\n']\n",
    "with open('example.txt','w') as file:\n",
    "    file.writelines(lines)\n",
    "\n",
    "with open('example.txt','r') as file:\n",
    "    content=file.read()\n",
    "    print(content)\n"
   ]
  },
  {
   "cell_type": "code",
   "execution_count": 1,
   "id": "44cecd59",
   "metadata": {},
   "outputs": [],
   "source": [
    "###Binary Files\n",
    "data=b'\\x00\\x01\\x02\\x03'\n",
    "with open('example.bin','wb') as f:\n",
    "    f.write(data)"
   ]
  },
  {
   "cell_type": "code",
   "execution_count": 4,
   "id": "0dd857bf",
   "metadata": {},
   "outputs": [
    {
     "name": "stdout",
     "output_type": "stream",
     "text": [
      "b'\\x00\\x01\\x02\\x03'\n"
     ]
    }
   ],
   "source": [
    "###Binary Files\n",
    "data=b'\\x00\\x01\\x02\\x03'\n",
    "with open('example.bin','rb') as f:\n",
    "    content=f.read()\n",
    "    print(content)"
   ]
  },
  {
   "cell_type": "code",
   "execution_count": 7,
   "id": "895f3d7d",
   "metadata": {},
   "outputs": [],
   "source": [
    "###Read the content from a source text file and write it to a destination text file\n",
    "with open('source.txt','r') as source_file:\n",
    "    content=source_file.read()\n",
    "with open('destination.txt','w') as destination_file:\n",
    "    destination_file.write(content)"
   ]
  },
  {
   "cell_type": "code",
   "execution_count": 9,
   "id": "ce494079",
   "metadata": {},
   "outputs": [
    {
     "name": "stdout",
     "output_type": "stream",
     "text": [
      "Lines: 4, Words: 11, Characters: 53\n"
     ]
    }
   ],
   "source": [
    "###Read a text file and count the number of lines, words and characters.\n",
    "###Counting lines, words and characters in a text file\n",
    "\n",
    "def count_text_file(filepath):\n",
    "    with open(filepath, 'r') as file:\n",
    "        lines = file.readlines()\n",
    "        line_count = len(lines)\n",
    "        word_count = sum(len(line.split()) for line in lines)\n",
    "        character_count = sum(len(line) for line in lines)\n",
    "        return line_count, word_count, character_count\n",
    "\n",
    "file_path = 'source.txt'\n",
    "line_count, word_count, character_count = count_text_file(file_path)\n",
    "print(f'Lines: {line_count}, Words: {word_count}, Characters: {character_count}')\n"
   ]
  },
  {
   "cell_type": "markdown",
   "id": "bf482e46",
   "metadata": {},
   "source": [
    "### The w+ mode allows you to write and read from a file if the file is not present it will create a new file"
   ]
  },
  {
   "cell_type": "code",
   "execution_count": 14,
   "id": "a8a154d5",
   "metadata": {},
   "outputs": [
    {
     "name": "stdout",
     "output_type": "stream",
     "text": [
      "Hello World\n",
      "This is a test file\n",
      "Many lines\n",
      "more lines\n",
      "\n"
     ]
    }
   ],
   "source": [
    "###writing and then reading from a text file\n",
    "with open('example1.txt','w+') as file:\n",
    "    file.write('Hello World\\n')\n",
    "    file.write('This is a test file\\n')\n",
    "    file.write('Many lines\\n')\n",
    "    file.write('more lines\\n')\n",
    "\n",
    "    file.seek(0)\n",
    "    content=file.read()\n",
    "    print(content)"
   ]
  },
  {
   "cell_type": "code",
   "execution_count": 2,
   "id": "f2bd4e60",
   "metadata": {},
   "outputs": [
    {
     "name": "stdout",
     "output_type": "stream",
     "text": [
      "\n"
     ]
    }
   ],
   "source": [
    "###writing and then reading from a text file\n",
    "with open('example1.txt','w+') as file:\n",
    "    file.write('Hello World\\n')\n",
    "    file.write('This is a test file\\n')\n",
    "    file.write('Many lines\\n')\n",
    "    file.write('more lines\\n')\n",
    "\n",
    "    #file.seek(0)\n",
    "    content=file.read()\n",
    "    print(content)"
   ]
  },
  {
   "cell_type": "code",
   "execution_count": null,
   "id": "797a83bb",
   "metadata": {},
   "outputs": [
    {
     "name": "stdout",
     "output_type": "stream",
     "text": [
      "Directory package created successfully\n"
     ]
    }
   ],
   "source": [
    "###Creating a new directory\n",
    "\n",
    "import os\n",
    "new_dir='package'\n",
    "os.mkdir(new_dir)\n",
    "\n",
    "print(f\"Directory {new_dir} created successfully\")b\n"
   ]
  }
 ],
 "metadata": {
  "kernelspec": {
   "display_name": "base",
   "language": "python",
   "name": "python3"
  },
  "language_info": {
   "codemirror_mode": {
    "name": "ipython",
    "version": 3
   },
   "file_extension": ".py",
   "mimetype": "text/x-python",
   "name": "python",
   "nbconvert_exporter": "python",
   "pygments_lexer": "ipython3",
   "version": "3.13.5"
  }
 },
 "nbformat": 4,
 "nbformat_minor": 5
}
