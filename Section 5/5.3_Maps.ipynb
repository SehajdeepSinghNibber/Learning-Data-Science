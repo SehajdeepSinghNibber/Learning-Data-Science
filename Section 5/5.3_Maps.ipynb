{
 "cells": [
  {
   "cell_type": "code",
   "execution_count": null,
   "id": "4536c485",
   "metadata": {},
   "outputs": [
    {
     "name": "stdout",
     "output_type": "stream",
     "text": [
      "<map object at 0x000002CA1BB273D0>\n"
     ]
    }
   ],
   "source": [
    "numbers = [1,2,3,4,5,6,7]\n",
    "\n",
    "squares = map(lambda x:x**2, numbers)\n",
    "print(list(squares))\n"
   ]
  },
  {
   "cell_type": "code",
   "execution_count": 7,
   "id": "372f22e8",
   "metadata": {},
   "outputs": [
    {
     "name": "stdout",
     "output_type": "stream",
     "text": [
      "[5, 7, 9]\n"
     ]
    }
   ],
   "source": [
    "numbers1 = [1,2,3]\n",
    "numbers2 = [4,5,6]\n",
    "\n",
    "add = lambda x,y:x+y\n",
    "print(list(map(add, numbers1, numbers2)))"
   ]
  },
  {
   "cell_type": "code",
   "execution_count": null,
   "id": "21732f24",
   "metadata": {},
   "outputs": [
    {
     "name": "stdout",
     "output_type": "stream",
     "text": [
      "['1', '2', '3', '4', '5']\n",
      "[1, 2, 3, 4, 5]\n"
     ]
    }
   ],
   "source": [
    "str_numbers=[\"1\",\"2\",\"3\",\"4\",\"5\"]\n",
    "print(str_numbers)\n",
    "int_numbers = list(map(int, str_numbers))\n",
    "print(int_numbers)"
   ]
  },
  {
   "cell_type": "code",
   "execution_count": 11,
   "id": "eaf0c592",
   "metadata": {},
   "outputs": [
    {
     "name": "stdout",
     "output_type": "stream",
     "text": [
      "['APPLE', 'BANANA', 'CHERRY']\n",
      "['Apple', 'Banana', 'Cherry']\n"
     ]
    }
   ],
   "source": [
    "words=[\"apple\",\"banana\",\"cherry\"]\n",
    "upper_words = list(map(str.upper, words))\n",
    "print(upper_words)\n",
    "title_words = list(map(str.title, words))\n",
    "print(title_words)\n"
   ]
  },
  {
   "cell_type": "code",
   "execution_count": null,
   "id": "1045ef72",
   "metadata": {},
   "outputs": [
    {
     "name": "stdout",
     "output_type": "stream",
     "text": [
      "['John', 'Mythri']\n"
     ]
    }
   ],
   "source": [
    "def get_name(name):\n",
    "    return name[\"name\"]\n",
    "\n",
    "people=[{\"name\":\"John\", \"age\":30, \"city\":\"New York\"},\n",
    "        {\"name\":\"Mythri\", \"age\":25, \"city\":\"Bangalore\"}]\n",
    "print(list(map(get_name, people)))\n"
   ]
  }
 ],
 "metadata": {
  "kernelspec": {
   "display_name": "UserssehajDesktopKrish",
   "language": "python",
   "name": "python3"
  },
  "language_info": {
   "codemirror_mode": {
    "name": "ipython",
    "version": 3
   },
   "file_extension": ".py",
   "mimetype": "text/x-python",
   "name": "python",
   "nbconvert_exporter": "python",
   "pygments_lexer": "ipython3",
   "version": "3.13.5"
  }
 },
 "nbformat": 4,
 "nbformat_minor": 5
}
