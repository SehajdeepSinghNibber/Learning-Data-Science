{
 "cells": [
  {
   "cell_type": "code",
   "execution_count": null,
   "id": "c730a30a",
   "metadata": {},
   "outputs": [],
   "source": [
    "##Positional Arguments\n",
    "def print_numbers(*args):\n",
    "    for i in args:\n",
    "        print(i)"
   ]
  },
  {
   "cell_type": "code",
   "execution_count": 5,
   "id": "a8891cab",
   "metadata": {},
   "outputs": [
    {
     "name": "stdout",
     "output_type": "stream",
     "text": [
      "1\n",
      "2\n",
      "3\n",
      "4\n",
      "5\n",
      "args\n",
      "sehaj\n"
     ]
    }
   ],
   "source": [
    "print_numbers(1,2,3,4,5,\"args\",\"sehaj\")"
   ]
  },
  {
   "cell_type": "code",
   "execution_count": 11,
   "id": "c1c2fd8b",
   "metadata": {},
   "outputs": [],
   "source": [
    "#keyword Arguments\n",
    "\n",
    "def print_details(**kwargs):\n",
    "    for key,value in kwargs.items():\n",
    "        print(f\"{key}:{value}\")"
   ]
  },
  {
   "cell_type": "code",
   "execution_count": 13,
   "id": "673e45e4",
   "metadata": {},
   "outputs": [
    {
     "name": "stdout",
     "output_type": "stream",
     "text": [
      "name:sehaj\n",
      "age:21\n",
      "city:Patiala\n"
     ]
    }
   ],
   "source": [
    "print_details(name=\"sehaj\",age=21,city=\"Patiala\")"
   ]
  },
  {
   "cell_type": "code",
   "execution_count": 16,
   "id": "1ac720e3",
   "metadata": {},
   "outputs": [],
   "source": [
    "def print_details(*args,**kwargs):\n",
    "    for i in args:\n",
    "        print(f\"Positional arguments:{i}\")\n",
    "    for key,value in kwargs.items():\n",
    "        print(f\"{key}:{value}\")\n",
    "    "
   ]
  },
  {
   "cell_type": "code",
   "execution_count": 17,
   "id": "70a1e3d9",
   "metadata": {},
   "outputs": [
    {
     "name": "stdout",
     "output_type": "stream",
     "text": [
      "Positional arguments:sehaj\n",
      "Positional arguments:21\n",
      "Positional arguments:Lucknow\n",
      "name:sehaj\n",
      "age:21\n",
      "city:Lucknow\n"
     ]
    }
   ],
   "source": [
    "print_details(\"sehaj\",21,\"Lucknow\",name=\"sehaj\",age=21,city=\"Lucknow\")"
   ]
  },
  {
   "cell_type": "code",
   "execution_count": null,
   "id": "dcfe9031",
   "metadata": {},
   "outputs": [],
   "source": []
  }
 ],
 "metadata": {
  "kernelspec": {
   "display_name": "UserssehajDesktopKrish",
   "language": "python",
   "name": "python3"
  },
  "language_info": {
   "codemirror_mode": {
    "name": "ipython",
    "version": 3
   },
   "file_extension": ".py",
   "mimetype": "text/x-python",
   "name": "python",
   "nbconvert_exporter": "python",
   "pygments_lexer": "ipython3",
   "version": "3.13.5"
  }
 },
 "nbformat": 4,
 "nbformat_minor": 5
}
