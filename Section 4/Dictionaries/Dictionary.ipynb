{
 "cells": [
  {
   "cell_type": "code",
   "execution_count": 17,
   "id": "1201367f",
   "metadata": {},
   "outputs": [
    {
     "name": "stdout",
     "output_type": "stream",
     "text": [
      "{}\n",
      "<class 'dict'>\n"
     ]
    }
   ],
   "source": [
    "##Creating Dictioary\n",
    "empty_dict={}\n",
    "print(empty_dict)\n",
    "print(type(empty_dict))"
   ]
  },
  {
   "cell_type": "code",
   "execution_count": 18,
   "id": "2deade79",
   "metadata": {},
   "outputs": [
    {
     "data": {
      "text/plain": [
       "{}"
      ]
     },
     "execution_count": 18,
     "metadata": {},
     "output_type": "execute_result"
    }
   ],
   "source": [
    "empty_dict=dict()\n",
    "empty_dict"
   ]
  },
  {
   "cell_type": "code",
   "execution_count": 19,
   "id": "fc64bc93",
   "metadata": {},
   "outputs": [
    {
     "name": "stdout",
     "output_type": "stream",
     "text": [
      "{'name': 'John', 'age': 25, 'course': ['Math', 'CompSci']}\n",
      "John\n",
      "25\n",
      "Not Found\n",
      "dict_keys(['name', 'age', 'course'])\n",
      "dict_values(['John', 25, ['Math', 'CompSci']])\n",
      "dict_items([('name', 'John'), ('age', 25), ('course', ['Math', 'CompSci'])])\n",
      "555-5555\n",
      "{'name': 'Jane', 'age': 22, 'course': ['Math', 'CompSci'], 'phone': '555-5555'}\n",
      "{'name': 'Jane', 'course': ['Math', 'CompSci'], 'phone': '555-5555'}\n",
      "{'name': 'Jane', 'course': ['Math', 'CompSci']}\n"
     ]
    }
   ],
   "source": [
    "student={\"name\":\"John\", \"age\":25, \"course\":[\"Math\", \"CompSci\"]}\n",
    "print(student)\n",
    "print(student[\"name\"])\n",
    "print(student.get(\"age\"))\n",
    "print(student.get(\"phone\", \"Not Found\"))\n",
    "print(student.keys())\n",
    "print(student.values())\n",
    "print(student.items())\n",
    "student[\"phone\"]=\"555-5555\"\n",
    "print(student.get(\"phone\", \"Not Found\"))\n",
    "student.update({\"name\":\"Jane\", \"age\":22, \"phone\":\"555-5555\"})\n",
    "print(student)\n",
    "student.pop(\"age\")\n",
    "print(student)\n",
    "student.popitem()\n",
    "print(student)\n"
   ]
  },
  {
   "cell_type": "code",
   "execution_count": 20,
   "id": "fa072c74",
   "metadata": {},
   "outputs": [
    {
     "name": "stdout",
     "output_type": "stream",
     "text": [
      "{'name': 12, 'age': 21}\n"
     ]
    }
   ],
   "source": [
    "#two same key\n",
    "student={\"name\":\"sehaj\",\"age\":21,\"name\":12}\n",
    "print(student)\n"
   ]
  },
  {
   "cell_type": "code",
   "execution_count": 21,
   "id": "65828254",
   "metadata": {},
   "outputs": [
    {
     "name": "stdout",
     "output_type": "stream",
     "text": [
      "{'name': 'John', 'age': 25, 'grade': 'A'}\n",
      "{'name': 'John', 'age': 25, 'grade': 'A'}\n",
      "{'name': 'John', 'age': 25, 'grade': 'B'}\n"
     ]
    }
   ],
   "source": [
    "student1={\"name\":\"John\", \"age\":25, \"grade\":\"A\"}\n",
    "student2=student1\n",
    "print(student2)\n",
    "student2=student1.copy()\n",
    "student2[\"grade\"]=\"B\"\n",
    "print(student1)\n",
    "print(student2)"
   ]
  },
  {
   "cell_type": "code",
   "execution_count": 24,
   "id": "a0d62217",
   "metadata": {},
   "outputs": [
    {
     "name": "stdout",
     "output_type": "stream",
     "text": [
      "name\n",
      "age\n",
      "grade\n"
     ]
    }
   ],
   "source": [
    "for key in student1:\n",
    "    print(key)"
   ]
  },
  {
   "cell_type": "code",
   "execution_count": 28,
   "id": "02878fc0",
   "metadata": {},
   "outputs": [
    {
     "name": "stdout",
     "output_type": "stream",
     "text": [
      "John\n",
      "25\n",
      "A\n"
     ]
    }
   ],
   "source": [
    "for value in student1.values():\n",
    "    print(value)\n"
   ]
  },
  {
   "cell_type": "code",
   "execution_count": 29,
   "id": "c0be88ab",
   "metadata": {},
   "outputs": [
    {
     "name": "stdout",
     "output_type": "stream",
     "text": [
      "John\n",
      "25\n",
      "A\n"
     ]
    }
   ],
   "source": [
    "for value in student1.values():\n",
    "    print(value)\n"
   ]
  },
  {
   "cell_type": "code",
   "execution_count": 31,
   "id": "5f2ff484",
   "metadata": {},
   "outputs": [
    {
     "name": "stdout",
     "output_type": "stream",
     "text": [
      "name John\n",
      "age 25\n",
      "grade A\n"
     ]
    }
   ],
   "source": [
    "for key,value in student1.items():\n",
    "    print(key,value)"
   ]
  },
  {
   "cell_type": "code",
   "execution_count": 39,
   "id": "cf4c76ab",
   "metadata": {},
   "outputs": [
    {
     "name": "stdout",
     "output_type": "stream",
     "text": [
      "{'student1': {'name': 'Sehaj', 'age': 21, 'gender': 'male', 'marks': 90}, 'student2': {'name': 'Prem', 'age': 22, 'gender': 'male', 'marks': 80}, 'student3': {'name': 'Madhav', 'age': 21, 'gender': 'male', 'marks': 70}}\n"
     ]
    }
   ],
   "source": [
    "# nested dictionary\n",
    "students = {\n",
    "    \"student1\": {\n",
    "        \"name\": \"Sehaj\",\n",
    "        \"age\": 21,\n",
    "        \"gender\": \"male\",\n",
    "        \"marks\": 90\n",
    "    },\n",
    "    \"student2\": {\n",
    "        \"name\": \"Prem\",\n",
    "        \"age\": 22,\n",
    "        \"gender\": \"male\",\n",
    "        \"marks\": 80\n",
    "    },\n",
    "    \"student3\": {\n",
    "        \"name\": \"Madhav\",\n",
    "        \"age\": 21,\n",
    "        \"gender\": \"male\",\n",
    "        \"marks\": 70\n",
    "    }\n",
    "}\n",
    "\n",
    "print(students)"
   ]
  },
  {
   "cell_type": "code",
   "execution_count": 40,
   "id": "c782bf34",
   "metadata": {},
   "outputs": [
    {
     "name": "stdout",
     "output_type": "stream",
     "text": [
      "80\n",
      "90\n"
     ]
    }
   ],
   "source": [
    "print(students[\"student2\"][\"marks\"])\n",
    "print(students[\"student1\"][\"marks\"])"
   ]
  },
  {
   "cell_type": "code",
   "execution_count": 41,
   "id": "f8c897e0",
   "metadata": {},
   "outputs": [
    {
     "name": "stdout",
     "output_type": "stream",
     "text": [
      "name Sehaj\n",
      "age 21\n",
      "gender male\n",
      "marks 90\n",
      "name Prem\n",
      "age 22\n",
      "gender male\n",
      "marks 80\n",
      "name Madhav\n",
      "age 21\n",
      "gender male\n",
      "marks 70\n"
     ]
    }
   ],
   "source": [
    "for studentID,studentInfo in students.items():\n",
    "    for key,value in studentInfo.items():\n",
    "        print(key,value)\n",
    "    "
   ]
  },
  {
   "cell_type": "code",
   "execution_count": 42,
   "id": "487982db",
   "metadata": {},
   "outputs": [
    {
     "name": "stdout",
     "output_type": "stream",
     "text": [
      "{0: 0, 1: 1, 2: 4, 3: 9, 4: 16, 5: 25, 6: 36, 7: 49, 8: 64, 9: 81}\n"
     ]
    }
   ],
   "source": [
    "##Dictionary Comprehension\n",
    "squares={x:x**2 for x in range(10)}\n",
    "print(squares)\n"
   ]
  },
  {
   "cell_type": "code",
   "execution_count": 43,
   "id": "449860c6",
   "metadata": {},
   "outputs": [
    {
     "name": "stdout",
     "output_type": "stream",
     "text": [
      "{2: 4, 4: 16, 6: 36, 8: 64, 10: 100}\n"
     ]
    }
   ],
   "source": [
    "#condition Dictionary Comprehension\n",
    "evens={x:x**2 for x in range(1,11) if x%2==0}\n",
    "print(evens)\n"
   ]
  },
  {
   "cell_type": "code",
   "execution_count": 46,
   "id": "100c3118",
   "metadata": {},
   "outputs": [
    {
     "name": "stdout",
     "output_type": "stream",
     "text": [
      "{1: 1, 2: 3, 3: 4, 4: 1, 5: 3, 6: 5, 7: 2, 8: 1}\n"
     ]
    }
   ],
   "source": [
    "#Practical Examples\n",
    "\n",
    "#Use a Dictionary to count the frequency of elements in a list\n",
    "\n",
    "numbers = [1,2,2,2,3,3,3,3,4,5,5,5,6,6,6,6,6,7,7,8]\n",
    "\n",
    "frequency = {}\n",
    "\n",
    "for number in numbers:\n",
    "    if number in frequency:\n",
    "        frequency[number] += 1\n",
    "    else:\n",
    "        frequency[number] = 1\n",
    "\n",
    "print(frequency)"
   ]
  },
  {
   "cell_type": "code",
   "execution_count": null,
   "id": "ae8a7977",
   "metadata": {},
   "outputs": [
    {
     "name": "stdout",
     "output_type": "stream",
     "text": [
      "{'a': 1, 'b': 2, 'c': 3, 'd': 4, 'e': 5, 'f': 6}\n",
      "None\n",
      "{'a': 1, 'b': 2, 'c': 3, 'd': 4}\n"
     ]
    },
    {
     "ename": "TypeError",
     "evalue": "unsupported operand type(s) for ** or pow(): 'dict' and 'dict'",
     "output_type": "error",
     "traceback": [
      "\u001b[31m---------------------------------------------------------------------------\u001b[39m",
      "\u001b[31mTypeError\u001b[39m                                 Traceback (most recent call last)",
      "\u001b[36mCell\u001b[39m\u001b[36m \u001b[39m\u001b[32mIn[49]\u001b[39m\u001b[32m, line 10\u001b[39m\n\u001b[32m      8\u001b[39m \u001b[38;5;28mprint\u001b[39m(dict1.update(dict2))\n\u001b[32m      9\u001b[39m \u001b[38;5;28mprint\u001b[39m(dict1)\n\u001b[32m---> \u001b[39m\u001b[32m10\u001b[39m \u001b[38;5;28mprint\u001b[39m(**dict1**\u001b[43mdict2\u001b[49m\u001b[43m*\u001b[49m\u001b[43m*\u001b[49m\u001b[43mdict3\u001b[49m)\n",
      "\u001b[31mTypeError\u001b[39m: unsupported operand type(s) for ** or pow(): 'dict' and 'dict'"
     ]
    }
   ],
   "source": [
    "##Merge 2 Dictinaries into one\n",
    "\n",
    "dict1={\"a\":1,\"b\":2}\n",
    "dict2={\"c\":3,\"d\":4}\n",
    "dict3={\"e\":5,\"f\":6}\n",
    "\n",
    "print(dict1|dict2|dict3)\n",
    "print(dict1.update(dict2))\n",
    "print(dict1)\n",
    "merged = {**dict1, **dict2, **dict3}\n",
    "print(merged)"
   ]
  }
 ],
 "metadata": {
  "kernelspec": {
   "display_name": "UserssehajDesktopKrish",
   "language": "python",
   "name": "python3"
  },
  "language_info": {
   "codemirror_mode": {
    "name": "ipython",
    "version": 3
   },
   "file_extension": ".py",
   "mimetype": "text/x-python",
   "name": "python",
   "nbconvert_exporter": "python",
   "pygments_lexer": "ipython3",
   "version": "3.13.5"
  }
 },
 "nbformat": 4,
 "nbformat_minor": 5
}
