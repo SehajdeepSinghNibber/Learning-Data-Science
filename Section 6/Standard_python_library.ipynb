{
 "cells": [
  {
   "cell_type": "code",
   "execution_count": 1,
   "id": "d331e1f4",
   "metadata": {},
   "outputs": [
    {
     "name": "stdout",
     "output_type": "stream",
     "text": [
      "array('i', [1, 2, 3, 4, 5])\n"
     ]
    }
   ],
   "source": [
    "import array\n",
    "arr = array.array('i', [1, 2, 3, 4, 5])\n",
    "print(arr)\n"
   ]
  },
  {
   "cell_type": "code",
   "execution_count": 1,
   "id": "c10b1e0d",
   "metadata": {},
   "outputs": [
    {
     "name": "stdout",
     "output_type": "stream",
     "text": [
      "   September 2025\n",
      "Mo Tu We Th Fr Sa Su\n",
      " 1  2  3  4  5  6  7\n",
      " 8  9 10 11 12 13 14\n",
      "15 16 17 18 19 20 21\n",
      "22 23 24 25 26 27 28\n",
      "29 30\n",
      "\n"
     ]
    }
   ],
   "source": [
    "import calendar\n",
    "print(calendar.month(2025, 9))\n"
   ]
  },
  {
   "cell_type": "code",
   "execution_count": 58,
   "id": "5892168c",
   "metadata": {},
   "outputs": [
    {
     "name": "stdout",
     "output_type": "stream",
     "text": [
      "9\n",
      "0.7866800209922697\n",
      "3\n",
      "[3, 5]\n",
      "None\n",
      "['e', 'l']\n",
      "['orange']\n"
     ]
    }
   ],
   "source": [
    "import random\n",
    "print(random.randint(1, 10))\n",
    "print(random.random())\n",
    "print(random.choice([1, 2, 3, 4, 5]))\n",
    "print(random.sample([1, 2, 3, 4, 5], 2))\n",
    "print(random.shuffle([1, 2, 3, 4, 5]))\n",
    "print(random.choices(\"apple\", k=2))\n",
    "print(random.choices([\"apple\",\"banana\",\"orange\"]))\n",
    "\n",
    "\n"
   ]
  },
  {
   "cell_type": "code",
   "execution_count": 72,
   "id": "308e8e3e",
   "metadata": {},
   "outputs": [
    {
     "name": "stdout",
     "output_type": "stream",
     "text": [
      "c:\\Users\\sehaj\\Desktop\\Krish Naik Python\\Section 6\n"
     ]
    }
   ],
   "source": [
    "###File and Directory Access\n",
    "import os\n",
    "print(os.getcwd())"
   ]
  },
  {
   "cell_type": "code",
   "execution_count": 80,
   "id": "c398fa7b",
   "metadata": {},
   "outputs": [],
   "source": [
    "os.mkdir(\"test_dir\")"
   ]
  },
  {
   "cell_type": "code",
   "execution_count": null,
   "id": "67275331",
   "metadata": {},
   "outputs": [],
   "source": [
    "os.rmdir(\"test_dir\")"
   ]
  },
  {
   "cell_type": "code",
   "execution_count": 82,
   "id": "4e781ad1",
   "metadata": {},
   "outputs": [
    {
     "name": "stdout",
     "output_type": "stream",
     "text": [
      "Folder 'test' created successfully!\n"
     ]
    }
   ],
   "source": [
    "import os\n",
    "\n",
    "# Create folder named \"test\"\n",
    "os.mkdir(\"test\")\n",
    "\n",
    "print(\"Folder 'test' created successfully!\")\n"
   ]
  },
  {
   "cell_type": "code",
   "execution_count": null,
   "id": "00d6eedd",
   "metadata": {},
   "outputs": [],
   "source": [
    "import shutil\n",
    "shutil.copyfile(\"source.txt\", \"destination.txt\")\n"
   ]
  },
  {
   "cell_type": "code",
   "execution_count": 84,
   "id": "630698ad",
   "metadata": {},
   "outputs": [
    {
     "name": "stdout",
     "output_type": "stream",
     "text": [
      "{\"name\": \"John\", \"age\": 30, \"city\": \"New York\"}\n",
      "<class 'str'>\n",
      "{'name': 'John', 'age': 30, 'city': 'New York'}\n",
      "<class 'dict'>\n"
     ]
    }
   ],
   "source": [
    "##Data Serialization\n",
    "import json\n",
    "data = {\"name\": \"John\", \"age\": 30, \"city\": \"New York\"}\n",
    "json_str = json.dumps(data)\n",
    "print(json_str)\n",
    "print(type(json_str))\n",
    "parsed_data = json.loads(json_str)\n",
    "print(parsed_data)\n",
    "print(type(parsed_data))\n"
   ]
  },
  {
   "cell_type": "code",
   "execution_count": 86,
   "id": "2a818fe2",
   "metadata": {},
   "outputs": [
    {
     "name": "stdout",
     "output_type": "stream",
     "text": [
      "['Name', 'Age', 'City']\n",
      "['John', '30', 'New York']\n",
      "['Jane', '25', 'Los Angeles']\n"
     ]
    }
   ],
   "source": [
    "##csv\n",
    "import csv\n",
    "\n",
    "with open(\"example.csv\",mode='w',newline='') as file:\n",
    "    writer = csv.writer(file)\n",
    "    writer.writerow([\"Name\",\"Age\",\"City\"])\n",
    "    writer.writerow([\"John\",30,\"New York\"])\n",
    "    writer.writerow([\"Jane\",25,\"Los Angeles\"])\n",
    "\n",
    "with open(\"example.csv\",mode='r') as file:\n",
    "    reader = csv.reader(file)\n",
    "    for row in reader:\n",
    "        print(row)\n"
   ]
  },
  {
   "cell_type": "code",
   "execution_count": 89,
   "id": "1aa54646",
   "metadata": {},
   "outputs": [
    {
     "name": "stdout",
     "output_type": "stream",
     "text": [
      "2025-09-18 23:00:35.208282\n",
      "2025-09-17 23:00:35.208282\n"
     ]
    }
   ],
   "source": [
    "##datatime\n",
    "from datetime import datetime, timedelta\n",
    "now = datetime.now()\n",
    "print(now)\n",
    "\n",
    "yesterday=now-timedelta(days=1)\n",
    "print(yesterday)\n",
    "\n"
   ]
  },
  {
   "cell_type": "code",
   "execution_count": 91,
   "id": "1bbd68ca",
   "metadata": {},
   "outputs": [
    {
     "name": "stdout",
     "output_type": "stream",
     "text": [
      "1758216808.760475\n",
      "1758216813.7614832\n"
     ]
    }
   ],
   "source": [
    "##time\n",
    "import time\n",
    "print(time.time())\n",
    "time.sleep(5)\n",
    "print(time.time())\n"
   ]
  },
  {
   "cell_type": "code",
   "execution_count": null,
   "id": "1d576f66",
   "metadata": {},
   "outputs": [
    {
     "name": "stdout",
     "output_type": "stream",
     "text": [
      "123\n",
      "789\n"
     ]
    }
   ],
   "source": [
    "## Regular expression\n",
    "import re\n",
    "\n",
    "pattern=r\"\\d+\"\n",
    "text=\"There are 123 apples\"\n",
    "match=re.search(pattern,text)\n",
    "\n",
    "print(match.group())\n",
    "\n",
    "pattern=r\"\\d+\"\n",
    "text=\"There are 789 apples\"\n",
    "match=re.search(pattern,text)\n",
    "\n",
    "print(match.group())"
   ]
  }
 ],
 "metadata": {
  "kernelspec": {
   "display_name": ".venv",
   "language": "python",
   "name": "python3"
  },
  "language_info": {
   "codemirror_mode": {
    "name": "ipython",
    "version": 3
   },
   "file_extension": ".py",
   "mimetype": "text/x-python",
   "name": "python",
   "nbconvert_exporter": "python",
   "pygments_lexer": "ipython3",
   "version": "3.13.4"
  }
 },
 "nbformat": 4,
 "nbformat_minor": 5
}
